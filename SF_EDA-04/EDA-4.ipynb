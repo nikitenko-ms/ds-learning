{
 "cells": [
  {
   "cell_type": "code",
   "execution_count": 1,
   "metadata": {},
   "outputs": [],
   "source": [
    "import pandas as pd\n",
    "import scipy.stats\n",
    "from IPython.display import display"
   ]
  },
  {
   "cell_type": "markdown",
   "metadata": {},
   "source": [
    "# Задание"
   ]
  },
  {
   "cell_type": "markdown",
   "metadata": {
    "id": "9LRTnw71DHUf"
   },
   "source": [
    "Используя информацию по мидиям Петербурга и Магадана, которые представлены в виде двух массивов petersburg и magadan, проверьте данные на нормальность и на наличие корреляции. Для этого объедините 2 массива в DataFrame. Обоснуйте выбор теста на корреляцию. Сделайте вывод по гипотезе.\n",
    " \n",
    " \n",
    "Также ответьте на вопрос:\n",
    "Какова разница в среднем размере мидии в зависимости от города-производителя. Обоснуйте выбор теста. Сделайте вывод по гипотезе.\n"
   ]
  },
  {
   "cell_type": "markdown",
   "metadata": {},
   "source": [
    "## Объединение массивов в DataFrame."
   ]
  },
  {
   "cell_type": "code",
   "execution_count": 2,
   "metadata": {},
   "outputs": [
    {
     "data": {
      "text/html": [
       "<div>\n",
       "<style scoped>\n",
       "    .dataframe tbody tr th:only-of-type {\n",
       "        vertical-align: middle;\n",
       "    }\n",
       "\n",
       "    .dataframe tbody tr th {\n",
       "        vertical-align: top;\n",
       "    }\n",
       "\n",
       "    .dataframe thead th {\n",
       "        text-align: right;\n",
       "    }\n",
       "</style>\n",
       "<table border=\"1\" class=\"dataframe\">\n",
       "  <thead>\n",
       "    <tr style=\"text-align: right;\">\n",
       "      <th></th>\n",
       "      <th>petersburg</th>\n",
       "      <th>magadan</th>\n",
       "    </tr>\n",
       "  </thead>\n",
       "  <tbody>\n",
       "    <tr>\n",
       "      <th>0</th>\n",
       "      <td>0.0974</td>\n",
       "      <td>0.1033</td>\n",
       "    </tr>\n",
       "    <tr>\n",
       "      <th>1</th>\n",
       "      <td>0.1352</td>\n",
       "      <td>0.0915</td>\n",
       "    </tr>\n",
       "    <tr>\n",
       "      <th>2</th>\n",
       "      <td>0.0817</td>\n",
       "      <td>0.0781</td>\n",
       "    </tr>\n",
       "    <tr>\n",
       "      <th>3</th>\n",
       "      <td>0.1016</td>\n",
       "      <td>0.0685</td>\n",
       "    </tr>\n",
       "    <tr>\n",
       "      <th>4</th>\n",
       "      <td>0.0968</td>\n",
       "      <td>0.0677</td>\n",
       "    </tr>\n",
       "    <tr>\n",
       "      <th>5</th>\n",
       "      <td>0.1064</td>\n",
       "      <td>0.0697</td>\n",
       "    </tr>\n",
       "    <tr>\n",
       "      <th>6</th>\n",
       "      <td>0.1050</td>\n",
       "      <td>0.0764</td>\n",
       "    </tr>\n",
       "    <tr>\n",
       "      <th>7</th>\n",
       "      <td>0.1034</td>\n",
       "      <td>0.0689</td>\n",
       "    </tr>\n",
       "  </tbody>\n",
       "</table>\n",
       "</div>"
      ],
      "text/plain": [
       "   petersburg  magadan\n",
       "0      0.0974   0.1033\n",
       "1      0.1352   0.0915\n",
       "2      0.0817   0.0781\n",
       "3      0.1016   0.0685\n",
       "4      0.0968   0.0677\n",
       "5      0.1064   0.0697\n",
       "6      0.1050   0.0764\n",
       "7      0.1034   0.0689"
      ]
     },
     "metadata": {},
     "output_type": "display_data"
    }
   ],
   "source": [
    "# данных по Магадану больше, чем по Петербургу, для выравнивания размерности дополнительно добавим среднее значение по Петербургу\n",
    "mean_peterspurg_mussel = round(sum([0.0974, 0.1352, 0.0817, 0.1016, 0.0968, 0.1064, 0.105]) / \n",
    "                               len([0.0974, 0.1352, 0.0817, 0.1016, 0.0968, 0.1064, 0.105]), 4)\n",
    "\n",
    "mussels_data = pd.DataFrame({'petersburg': [0.0974, 0.1352, 0.0817, 0.1016, 0.0968, 0.1064, 0.105, mean_peterspurg_mussel], \n",
    "                             'magadan': [0.1033, 0.0915, 0.0781, 0.0685, 0.0677, 0.0697, 0.0764, 0.0689]})\n",
    "display(mussels_data)"
   ]
  },
  {
   "cell_type": "markdown",
   "metadata": {},
   "source": [
    "## Тест на корреляцию. "
   ]
  },
  {
   "cell_type": "markdown",
   "metadata": {},
   "source": [
    "*В качестве исходных данные представлены две разные группы со значениями одинакового непрерывного количественного признака. Этот факт уже говорит в пользу выбора теста на корреляцию методом Пирсона.*"
   ]
  },
  {
   "cell_type": "markdown",
   "metadata": {},
   "source": [
    "*Для подтверждения выбора теста на корреляцию, так же следует проверить нормальность распределения*\n",
    "\n",
    "Сформируем две гипотезы:\n",
    "-  H0 - данные распределены нормально\n",
    "-  Ha - данные не распределены нормально\n",
    "\n",
    "Уровень значимости установим в значение 5% (**a = 0.05**)"
   ]
  },
  {
   "cell_type": "code",
   "execution_count": 3,
   "metadata": {},
   "outputs": [
    {
     "name": "stdout",
     "output_type": "stream",
     "text": [
      "p = 0.100\n"
     ]
    }
   ],
   "source": [
    "# проверим нормальность с помощью теста Шапиро-Уилка\n",
    "_, p = scipy.stats.shapiro(mussels_data)\n",
    "print('p = %.3f' % p)"
   ]
  },
  {
   "cell_type": "markdown",
   "metadata": {},
   "source": [
    "*Тест Шапиро-Уилка даёт результат 0,1 (10%). Это значение больше заданного 'а'.*"
   ]
  },
  {
   "cell_type": "code",
   "execution_count": 4,
   "metadata": {},
   "outputs": [
    {
     "name": "stdout",
     "output_type": "stream",
     "text": [
      "p = 0.042\n"
     ]
    },
    {
     "name": "stderr",
     "output_type": "stream",
     "text": [
      "D:\\Phyton\\lib\\site-packages\\scipy\\stats\\_stats_py.py:1477: UserWarning: kurtosistest only valid for n>=20 ... continuing anyway, n=8\n",
      "  warnings.warn(\"kurtosistest only valid for n>=20 ... continuing \"\n"
     ]
    }
   ],
   "source": [
    "# проверим нормальность с помощью теста Д'Агостино\n",
    "_, p = scipy.stats.normaltest(mussels_data)\n",
    "print('p = %.3f' % p[0])"
   ]
  },
  {
   "cell_type": "markdown",
   "metadata": {},
   "source": [
    "*Результат теста Д'Агостино равен 0.042. Этот результат следует сравнить с a/2 (0.025).*\n",
    " "
   ]
  },
  {
   "cell_type": "markdown",
   "metadata": {},
   "source": [
    "- **Данные распределены нормально.**\n",
    "- **В качестве теста на корреляцию следует использовать метод Пирсона.**"
   ]
  },
  {
   "cell_type": "markdown",
   "metadata": {},
   "source": [
    "*Перед проведением теста на корреляцию сформируем две гипотезы:*\n",
    "-  *H0 - нельзя отвергать гипотезу об отсутствии связи между переменными*\n",
    "-  *Ha - отвергаем гипотезу об отсутствии связи между переменными*"
   ]
  },
  {
   "cell_type": "code",
   "execution_count": 5,
   "metadata": {},
   "outputs": [
    {
     "data": {
      "text/html": [
       "<div>\n",
       "<style scoped>\n",
       "    .dataframe tbody tr th:only-of-type {\n",
       "        vertical-align: middle;\n",
       "    }\n",
       "\n",
       "    .dataframe tbody tr th {\n",
       "        vertical-align: top;\n",
       "    }\n",
       "\n",
       "    .dataframe thead th {\n",
       "        text-align: right;\n",
       "    }\n",
       "</style>\n",
       "<table border=\"1\" class=\"dataframe\">\n",
       "  <thead>\n",
       "    <tr style=\"text-align: right;\">\n",
       "      <th></th>\n",
       "      <th>petersburg</th>\n",
       "      <th>magadan</th>\n",
       "    </tr>\n",
       "  </thead>\n",
       "  <tbody>\n",
       "    <tr>\n",
       "      <th>petersburg</th>\n",
       "      <td>1.000000</td>\n",
       "      <td>0.244845</td>\n",
       "    </tr>\n",
       "    <tr>\n",
       "      <th>magadan</th>\n",
       "      <td>0.244845</td>\n",
       "      <td>1.000000</td>\n",
       "    </tr>\n",
       "  </tbody>\n",
       "</table>\n",
       "</div>"
      ],
      "text/plain": [
       "            petersburg   magadan\n",
       "petersburg    1.000000  0.244845\n",
       "magadan       0.244845  1.000000"
      ]
     },
     "execution_count": 5,
     "metadata": {},
     "output_type": "execute_result"
    }
   ],
   "source": [
    "mussels_data.corr()"
   ]
  },
  {
   "cell_type": "code",
   "execution_count": 6,
   "metadata": {},
   "outputs": [
    {
     "name": "stdout",
     "output_type": "stream",
     "text": [
      "0.2448\n",
      "0.5589\n"
     ]
    }
   ],
   "source": [
    "corr, p = scipy.stats.pearsonr(mussels_data['petersburg'], mussels_data['magadan'])\n",
    "print(round(corr, 4))\n",
    "print(round(p, 4))"
   ]
  },
  {
   "cell_type": "markdown",
   "metadata": {},
   "source": [
    "**Результат теста на корреляцию говорит о слабой связи данных, и о том, что мы не можем отвергнуть гипотезу об отсутствии зависимости между переменными.**\n",
    "*Честно говоря, непонятно как эти данные могли быть связаны, если у нас нет других признаков, позволяющих отсортировать или сгруппировать данные, плюс данных слишком мало для надёжных выводов.*"
   ]
  },
  {
   "cell_type": "markdown",
   "metadata": {},
   "source": [
    "## Какова разница в среднем размере мидии в зависимости от города-производителя."
   ]
  },
  {
   "cell_type": "markdown",
   "metadata": {},
   "source": [
    "*Для ответа на поставленный вопрос сформируем две гипотезы:*\n",
    "- *H0 - нет значимой разницы между средним размером раковины мидий в Петербурге и в Магадане*\n",
    "- *Ha - есть значимая разница между средним размером раковины мидий в Петербурге и в Магадане*"
   ]
  },
  {
   "cell_type": "markdown",
   "metadata": {},
   "source": [
    "Для проверки гипотез используем t-тест, так как он используется при сравнении средних значений ровно двух групп одной совокупности. Зависимая переменная (размер мидии) является количественной. Группы происходят из разных совокупностей. Следовательно, мы используем независимый T-тест."
   ]
  },
  {
   "cell_type": "code",
   "execution_count": 7,
   "metadata": {},
   "outputs": [
    {
     "name": "stdout",
     "output_type": "stream",
     "text": [
      "p = 0.003\n"
     ]
    }
   ],
   "source": [
    "test_results = scipy.stats.ttest_ind(mussels_data['petersburg'], mussels_data['magadan'], equal_var=True)\n",
    "print(('p = %.3f' % test_results[1]))"
   ]
  },
  {
   "cell_type": "markdown",
   "metadata": {},
   "source": [
    "**По результатам t-теста мы получили значение 0,003, это меньше, чем 'a' (0,05), значит мы отвергаем нулевую гипотезу и можем говоритьо наличии значимой разницы между средним размером раковин мидий в Петербурге и Магадане.**"
   ]
  }
 ],
 "metadata": {
  "interpreter": {
   "hash": "03fef7acb0ef45d1307e4c78e8e152f4aafae7a0dcf57c70bcb86789ee9e8374"
  },
  "kernelspec": {
   "display_name": "Python 3.10.1 64-bit",
   "language": "python",
   "name": "python3"
  },
  "language_info": {
   "codemirror_mode": {
    "name": "ipython",
    "version": 3
   },
   "file_extension": ".py",
   "mimetype": "text/x-python",
   "name": "python",
   "nbconvert_exporter": "python",
   "pygments_lexer": "ipython3",
   "version": "3.10.1"
  },
  "orig_nbformat": 4
 },
 "nbformat": 4,
 "nbformat_minor": 2
}
