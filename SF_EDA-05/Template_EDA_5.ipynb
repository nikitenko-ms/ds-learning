{
 "cells": [
  {
   "cell_type": "markdown",
   "id": "c8a6af25-08d3-487a-bd90-001772ac9161",
   "metadata": {},
   "source": [
    "## <center> **Анализ результатов A/B-тестирования**"
   ]
  },
  {
   "cell_type": "markdown",
   "id": "d7d45571-6545-4904-a86b-9b3b6b8163d3",
   "metadata": {},
   "source": [
    "Компания планирует запустить новую акцию, чтобы продать как можно больше туров. Команда разработала два варианта посадочной страницы официального сайта компании и провела A/B-тестирование. Собранные в результате проведения эксперимента данные вы можете найти здесь.\n",
    "\n",
    "Вам предстоит решить настоящую бизнес-задачу: проанализировать эффективность обоих вариантов посадочной страницы сразу по двум критериям: конверсии покупки и среднему чеку. На основе проведенного анализа вам будет необходимо сделать выводы и принять решение: какой из вариантов дизайна более предпочтительный.\n",
    "\n",
    "Итак, наша фирма предлагает следующие варианты туров и их соответствующие стоимости:\n",
    "* Таиланд — 100000 рублей;\n",
    "* Турция — 60000 рублей;\n",
    "* Мальдивы — 200000 рублей;\n",
    "* Санкт-Петербург — 10000 рублей;\n",
    "* Камчатка — 150000 рублей."
   ]
  },
  {
   "cell_type": "code",
   "execution_count": 1,
   "id": "a974b482-e192-4014-8520-8a5c0c946da6",
   "metadata": {},
   "outputs": [],
   "source": [
    "import pandas as pd\n",
    "import matplotlib.pyplot as plt\n",
    "import seaborn as sns\n",
    "from scipy.stats import norm\n",
    "from scipy.stats import t\n",
    "from scipy.stats import ttest_ind, shapiro\n",
    "from statsmodels.stats.proportion import proportions_ztest\n",
    "from IPython.display import display"
   ]
  },
  {
   "cell_type": "markdown",
   "id": "55c84550-4162-4325-acc2-7d3c0aafe6f0",
   "metadata": {},
   "source": [
    "Прочитаем наши данные и посмотрим на столбцы таблицы:"
   ]
  },
  {
   "cell_type": "code",
   "execution_count": 2,
   "id": "b0d18245-b9da-44bd-8aea-d272ea74b63a",
   "metadata": {},
   "outputs": [
    {
     "data": {
      "text/html": [
       "<div>\n",
       "<style scoped>\n",
       "    .dataframe tbody tr th:only-of-type {\n",
       "        vertical-align: middle;\n",
       "    }\n",
       "\n",
       "    .dataframe tbody tr th {\n",
       "        vertical-align: top;\n",
       "    }\n",
       "\n",
       "    .dataframe thead th {\n",
       "        text-align: right;\n",
       "    }\n",
       "</style>\n",
       "<table border=\"1\" class=\"dataframe\">\n",
       "  <thead>\n",
       "    <tr style=\"text-align: right;\">\n",
       "      <th></th>\n",
       "      <th>user_id</th>\n",
       "      <th>date</th>\n",
       "      <th>group</th>\n",
       "      <th>purchase</th>\n",
       "      <th>price</th>\n",
       "    </tr>\n",
       "  </thead>\n",
       "  <tbody>\n",
       "    <tr>\n",
       "      <th>0</th>\n",
       "      <td>851104</td>\n",
       "      <td>2021-01-21</td>\n",
       "      <td>A</td>\n",
       "      <td>0</td>\n",
       "      <td>0</td>\n",
       "    </tr>\n",
       "    <tr>\n",
       "      <th>1</th>\n",
       "      <td>804228</td>\n",
       "      <td>2021-01-12</td>\n",
       "      <td>A</td>\n",
       "      <td>0</td>\n",
       "      <td>0</td>\n",
       "    </tr>\n",
       "    <tr>\n",
       "      <th>2</th>\n",
       "      <td>661590</td>\n",
       "      <td>2021-01-11</td>\n",
       "      <td>B</td>\n",
       "      <td>0</td>\n",
       "      <td>0</td>\n",
       "    </tr>\n",
       "    <tr>\n",
       "      <th>3</th>\n",
       "      <td>853541</td>\n",
       "      <td>2021-01-08</td>\n",
       "      <td>B</td>\n",
       "      <td>0</td>\n",
       "      <td>0</td>\n",
       "    </tr>\n",
       "    <tr>\n",
       "      <th>4</th>\n",
       "      <td>864975</td>\n",
       "      <td>2021-01-21</td>\n",
       "      <td>A</td>\n",
       "      <td>1</td>\n",
       "      <td>150000</td>\n",
       "    </tr>\n",
       "  </tbody>\n",
       "</table>\n",
       "</div>"
      ],
      "text/plain": [
       "   user_id        date group  purchase   price\n",
       "0   851104  2021-01-21     A         0       0\n",
       "1   804228  2021-01-12     A         0       0\n",
       "2   661590  2021-01-11     B         0       0\n",
       "3   853541  2021-01-08     B         0       0\n",
       "4   864975  2021-01-21     A         1  150000"
      ]
     },
     "execution_count": 2,
     "metadata": {},
     "output_type": "execute_result"
    }
   ],
   "source": [
    "data = pd.read_csv('data/ab_data_tourist.csv')\n",
    "data.head()"
   ]
  },
  {
   "cell_type": "markdown",
   "id": "4e5b642b",
   "metadata": {},
   "source": [
    "    user_id - идентификатор пользователя, зашедшего на сайт\n",
    "    date - дата захода\n",
    "    group - группа теста (контрольная — А или тестовая — B)\n",
    "    purchase - признак покупки: совершил ли пользователь покупку тура (1 — да, 0 — нет)\n",
    "    price - цена купленного тура (если покупка не состоялась, цена равна 0)"
   ]
  },
  {
   "cell_type": "markdown",
   "id": "2fc48225-26ac-49c4-b99d-8b2a03dd74a1",
   "metadata": {
    "tags": []
   },
   "source": [
    "## **Задание 7.1.**\n",
    "\n",
    "Начнем с исследования структуры наших данных. С помощью метода info() выведите информацию о типах данных и количестве непустых значений. Какой тип данных имеет столбец date?"
   ]
  },
  {
   "cell_type": "code",
   "execution_count": 3,
   "id": "23496521-4878-46e2-ab02-1a98be14884a",
   "metadata": {},
   "outputs": [
    {
     "name": "stdout",
     "output_type": "stream",
     "text": [
      "<class 'pandas.core.frame.DataFrame'>\n",
      "RangeIndex: 294478 entries, 0 to 294477\n",
      "Data columns (total 5 columns):\n",
      " #   Column    Non-Null Count   Dtype \n",
      "---  ------    --------------   ----- \n",
      " 0   user_id   294478 non-null  int64 \n",
      " 1   date      294478 non-null  object\n",
      " 2   group     294478 non-null  object\n",
      " 3   purchase  294478 non-null  int64 \n",
      " 4   price     294478 non-null  int64 \n",
      "dtypes: int64(3), object(2)\n",
      "memory usage: 11.2+ MB\n"
     ]
    }
   ],
   "source": [
    "data.info()"
   ]
  },
  {
   "cell_type": "markdown",
   "id": "946d017d-b4fe-4a17-b91d-0ce369d1ab2e",
   "metadata": {
    "tags": []
   },
   "source": [
    "## **Задание 7.2.**\n",
    "\n",
    "Приведите столбец date к типу данных datetime. Убедитесь в равной длительности проведения тестирования для каждой из группы. Для этого сгруппируйте данные по признаку группы и определите первую и последнюю дату наблюдения для каждой из групп. \n",
    "\n",
    "В какой промежуток времени проводился A/B-тест?\n"
   ]
  },
  {
   "cell_type": "code",
   "execution_count": 4,
   "id": "604c619d-6338-45c8-8248-ac098a2366bb",
   "metadata": {},
   "outputs": [
    {
     "data": {
      "text/plain": [
       "group\n",
       "A   2021-01-02\n",
       "B   2021-01-02\n",
       "Name: date, dtype: datetime64[ns]"
      ]
     },
     "metadata": {},
     "output_type": "display_data"
    },
    {
     "data": {
      "text/plain": [
       "group\n",
       "A   2021-01-24\n",
       "B   2021-01-24\n",
       "Name: date, dtype: datetime64[ns]"
      ]
     },
     "metadata": {},
     "output_type": "display_data"
    }
   ],
   "source": [
    "# приводим столбец date к тиму datetime\n",
    "data['date'] = pd.to_datetime(data['date'], format='%Y-%m-%d')\n",
    "\n",
    "# группируме данные по группам A и B, и вычисляем минимум и максимум для каждой группы\n",
    "display(data.groupby(['group'])['date'].min())\n",
    "display(data.groupby(['group'])['date'].max())"
   ]
  },
  {
   "cell_type": "markdown",
   "id": "20223ad5",
   "metadata": {},
   "source": [
    "**Ответ:** *A/B-тест проводился со 2 по 24 января 2021 года.*"
   ]
  },
  {
   "cell_type": "markdown",
   "id": "e04eb341-52ae-48b3-9dc2-0578ca91641a",
   "metadata": {},
   "source": [
    "## **Задание 7.3.**\n",
    "\n",
    "* Чему равно количество посещений сайта в группах А и B?\n",
    "\n",
    "* Чему равно суммарное количество покупок в группах А и B?\n",
    "\n",
    "* Чему равна сумма всех покупок в группах А и B? Ответ приведите в миллионах рублей. Например, 185.52 млн. руб."
   ]
  },
  {
   "cell_type": "code",
   "execution_count": 5,
   "id": "02bf0148-488e-4f34-95bf-37794b2fa98b",
   "metadata": {},
   "outputs": [
    {
     "name": "stdout",
     "output_type": "stream",
     "text": [
      "B    147276\n",
      "A    147202\n",
      "Name: group, dtype: int64\n",
      "Количество покупок в группе A = 17723\n",
      "Количество покупок в группе B = 17514\n",
      "Суммарное количество покупок составляет 2990.36 млн.руб.\n",
      "Суммарное количество покупок в группе A составляет 1436.26 млн.руб.\n",
      "Суммарное количество покупок в угрппе B составляет 1554.1 млн.руб.\n"
     ]
    }
   ],
   "source": [
    "# запрашиваем количество записей по значению группы\n",
    "print(data['group'].value_counts())\n",
    "\n",
    "# запрашиваем количество покупок в группе A\n",
    "print('Количество покупок в группе A =', data[data['group'] == 'A']['purchase'].sum())\n",
    "# запрашиваем количество покупок в группе B\n",
    "print('Количество покупок в группе B =', data[data['group'] == 'B']['purchase'].sum())\n",
    "\n",
    "# запрашиваем сумму по признаку price\n",
    "print('Суммарное количество покупок составляет', round((data['price'].sum() / 1000000), 2), 'млн.руб.')\n",
    "# запрашиваем сумму по признаку price В группе A\n",
    "print('Суммарное количество покупок в группе A составляет', round((data[data['group'] == 'A']['price'].sum() / 1000000), 2), 'млн.руб.')\n",
    "# запрашиваем сумму по признаку price в группе B\n",
    "print('Суммарное количество покупок в угрппе B составляет', round((data[data['group'] == 'B']['price'].sum() / 1000000), 2), 'млн.руб.')"
   ]
  },
  {
   "cell_type": "markdown",
   "id": "2434db1b-17e6-4977-8e54-1df875c6f221",
   "metadata": {
    "tags": []
   },
   "source": [
    "## **Задание 7.4.**\n",
    "\n",
    "Проверьте, есть ли пользователи, которые в процессе A/B-теста попали в обе тестовые группы? Если да, то сколько таких уникальных пользователей, если нет - введите в поле для ответа 0?\n",
    "\n",
    "**Подсказка:**\n",
    "\n",
    "*Создайте множество пользователей группы А и множество пользователей группы B. Пересеките два этих множества (операция intersection) и вычислите количество элементов в полученном множестве.*\n"
   ]
  },
  {
   "cell_type": "code",
   "execution_count": 6,
   "id": "57a2d711-057d-4f8b-9f56-df0f772d41c8",
   "metadata": {},
   "outputs": [
    {
     "name": "stdout",
     "output_type": "stream",
     "text": [
      "Количество пользователей, попавших в обе группы = 1895\n"
     ]
    }
   ],
   "source": [
    "# получаем уникальные значения id пользователей внутри групп\n",
    "data_a = set(data[data['group'] == 'A']['user_id'])\n",
    "data_b = set(data[data['group'] == 'B']['user_id'])\n",
    "# вычисляем пересечения множеств\n",
    "double_data = set.intersection(data_a, data_b)\n",
    "print('Количество пользователей, попавших в обе группы =', len(double_data))"
   ]
  },
  {
   "cell_type": "markdown",
   "id": "118b1904-7d7a-4935-825e-535da45c611b",
   "metadata": {
    "tags": []
   },
   "source": [
    "## **Исключите пользователей, оказавшихся в обеих группах**\n",
    "\n",
    "Так как мы не можем определить, какая из версий сайта повлияла на принятие решения, исключим этих пользователей. Далее мы будем работать только с очищенными от пересечений данными."
   ]
  },
  {
   "cell_type": "code",
   "execution_count": 7,
   "id": "f618b34b-35a3-4bf1-8d6d-38b3401930b7",
   "metadata": {},
   "outputs": [
    {
     "name": "stdout",
     "output_type": "stream",
     "text": [
      "Количество наблюдений до очищения от дублей - 294478\n",
      "Количество наблюдений после очищения от дублей - 290688\n"
     ]
    }
   ],
   "source": [
    "print('Количество наблюдений до очищения от дублей -', data.shape[0])\n",
    "updated_data = data[data['user_id'].apply(lambda x: x not in double_data)]\n",
    "print('Количество наблюдений после очищения от дублей -',updated_data.shape[0])"
   ]
  },
  {
   "cell_type": "markdown",
   "id": "2bce6c9a-6580-4250-b280-204d40d20da2",
   "metadata": {},
   "source": [
    "Где user_intersection - множество пересечений пользователей групп А и B."
   ]
  },
  {
   "attachments": {
    "95f235d2-6323-4799-bf69-697fc57f727b.png": {
     "image/png": "[encoded data removed]"
    }
   },
   "cell_type": "markdown",
   "id": "2ddf6b2c-7987-41f3-82b1-8992630ae97b",
   "metadata": {
    "tags": []
   },
   "source": [
    "## **Задание 7.5.**\n",
    "\n",
    "Для первичного анализа результатов A/B-тестирования нам понадобится таблица со столбцами: *group, count_visits, count_purchases, sum_p*\n",
    "\n",
    "Для того, чтобы получить такую таблицу, сгруппируйте данные по признаку группы. В каждой группе рассчитайте следующие показатели:\n",
    "* количество посещений (количество пользователей)\n",
    "* количество совершенных покупок\n",
    "* сумма всех покупок в группе\n",
    "\n",
    "В полученной сгруппированной таблице переименуйте столбцы на **count_visits, count_purchases и sum_price**.\n",
    "\n",
    "**Подсказка:**\n",
    "\n",
    "*Для переименования столбцов можно использовать метод rename() с параметром columns, в который передается словарь. Ключи этого словаря - старые имена столбцов, а значения - новые.*\n",
    "\n",
    "Чему на этот раз равно количество посещений сайта в группах А и B?\n"
   ]
  },
  {
   "cell_type": "code",
   "execution_count": 8,
   "id": "5c0c018e-a250-48e9-b72a-e3c7be586ebd",
   "metadata": {},
   "outputs": [
    {
     "data": {
      "text/html": [
       "<div>\n",
       "<style scoped>\n",
       "    .dataframe tbody tr th:only-of-type {\n",
       "        vertical-align: middle;\n",
       "    }\n",
       "\n",
       "    .dataframe tbody tr th {\n",
       "        vertical-align: top;\n",
       "    }\n",
       "\n",
       "    .dataframe thead th {\n",
       "        text-align: right;\n",
       "    }\n",
       "</style>\n",
       "<table border=\"1\" class=\"dataframe\">\n",
       "  <thead>\n",
       "    <tr style=\"text-align: right;\">\n",
       "      <th></th>\n",
       "      <th>group</th>\n",
       "      <th>count_visits</th>\n",
       "      <th>count_purchases</th>\n",
       "      <th>sum_price</th>\n",
       "    </tr>\n",
       "  </thead>\n",
       "  <tbody>\n",
       "    <tr>\n",
       "      <th>0</th>\n",
       "      <td>A</td>\n",
       "      <td>145307</td>\n",
       "      <td>17487</td>\n",
       "      <td>1417780000</td>\n",
       "    </tr>\n",
       "    <tr>\n",
       "      <th>1</th>\n",
       "      <td>B</td>\n",
       "      <td>145381</td>\n",
       "      <td>17290</td>\n",
       "      <td>1533010000</td>\n",
       "    </tr>\n",
       "  </tbody>\n",
       "</table>\n",
       "</div>"
      ],
      "text/plain": [
       "  group  count_visits  count_purchases   sum_price\n",
       "0     A        145307            17487  1417780000\n",
       "1     B        145381            17290  1533010000"
      ]
     },
     "metadata": {},
     "output_type": "display_data"
    }
   ],
   "source": [
    "# группируем данные и переименовываем столбцы\n",
    "grouped_data = updated_data.groupby(['group']).agg({\n",
    "    'user_id':'count',\n",
    "    'purchase': 'sum',\n",
    "    'price':'sum'\n",
    "}).reset_index().rename(columns={'user_id': 'count_visits', 'purchase': 'count_purchases', 'price': 'sum_price'})\n",
    "\n",
    "display(grouped_data)"
   ]
  },
  {
   "cell_type": "markdown",
   "id": "b71e1390-9846-4a8e-b357-f82b847d1952",
   "metadata": {},
   "source": [
    "Приведите промежуточные выводы по построенной таблице. Сопоставимо ли количество посещений обоих вариантов посадочной странице, можно ли говорить о сбалансированности выборок?"
   ]
  },
  {
   "cell_type": "markdown",
   "id": "4ea1b65b-475e-4bff-9460-fac0acdb9620",
   "metadata": {},
   "source": [
    "*После очистки и группировки данных, можно сделать предварительный вывод (до статистических тестов), о том, **что группа 'B' активнее по количеству посещений сайта и сумме сделанных покупок**. Однако **группа 'A' выигрывает по количеству покупок**.*\n",
    "\n",
    "*Это достаточно противоречивые показатели, основная цель любого бизнеса - извлечение прибыли, и тут группа 'B' кажется привлекательнее, но большее количество покупок в группе 'A' может говорить о том, что в будущем эти клиенты вернуться и принесут больше денег.*"
   ]
  },
  {
   "cell_type": "markdown",
   "id": "afb2ee0a-31d1-45a5-be42-a2bf168b9448",
   "metadata": {
    "tags": []
   },
   "source": [
    "## **Задание 7.6.**\n",
    "\n",
    "Добавьте в сгруппированную таблицу столбцы conversion - конверсия покупки (отношение количества покупок к количеству посещений сайта в каждой группе, выраженное в процентах) и mean_check - средний чек (отношение суммы покупок к количеству покупок в каждой группе).\n",
    "\n",
    "* Чему равна конверсия в группах? Ответ приведите в процентах и округлите до сотых. Например, 75.12 %\n",
    "* Чему равен средний чек в группах? Ответ приведите в рублях и округлите до целых. Например, 120519 рублей."
   ]
  },
  {
   "cell_type": "code",
   "execution_count": 9,
   "id": "bd9c3b3e-5956-41a8-bae0-43693f6de1f2",
   "metadata": {},
   "outputs": [
    {
     "name": "stdout",
     "output_type": "stream",
     "text": [
      "Конверсия в группе A составляет 12.03 %\n",
      "Конверсия в группе B составляет 11.89 %\n",
      "Средний чек в группе A составляет 81076 рублей\n",
      "Средний чек в группе B составляет 88665 рублей\n"
     ]
    }
   ],
   "source": [
    "grouped_data['conversion'] = grouped_data['count_purchases'] / grouped_data['count_visits'] * 100\n",
    "grouped_data['mean_check'] = grouped_data['sum_price'] / grouped_data['count_purchases']\n",
    "# выводим данные конверсии по каждой из групп\n",
    "print('Конверсия в группе A составляет', round(grouped_data[grouped_data['group'] == 'A']['conversion'][0], 2), '%')\n",
    "print('Конверсия в группе B составляет', round(grouped_data[grouped_data['group'] == 'B']['conversion'][1], 2), '%')\n",
    "# выводим данные среднего чека по каждой из групп\n",
    "print('Средний чек в группе A составляет', round(grouped_data[grouped_data['group'] == 'A']['mean_check'][0]), 'рублей')\n",
    "print('Средний чек в группе B составляет', round(grouped_data[grouped_data['group'] == 'B']['mean_check'][1]), 'рублей')"
   ]
  },
  {
   "cell_type": "markdown",
   "id": "1eb6e140-c702-43e0-b301-9914a7f49448",
   "metadata": {},
   "source": [
    "Приведите промежуточные выводы по таблице. По какому(им) показателю(ям) вариант А эффективнее варианта B и наоборот?"
   ]
  },
  {
   "cell_type": "markdown",
   "id": "9e88c883-84f9-44ec-accd-04d5d459b261",
   "metadata": {},
   "source": [
    "*Вывод на данном этапе пока что совпадает с предыдущим, **группа 'B' эффективнее по среднему чеку, а группа 'A' выигрывает по конверсии**.*"
   ]
  },
  {
   "cell_type": "markdown",
   "id": "7f9f1ae0-f12f-49b3-8b57-1c299c208c49",
   "metadata": {
    "tags": []
   },
   "source": [
    "## **Задание 7.7.**\n",
    "\n",
    "Теперь давайте сравним варианты по покупательской способности туров. Для этого постройте сводную таблицу, которая покажет зависимость количества продаж от группы и цены тура. "
   ]
  },
  {
   "cell_type": "code",
   "execution_count": 10,
   "id": "78d46a02-cc30-4783-9b18-9fc9c6a08012",
   "metadata": {},
   "outputs": [
    {
     "data": {
      "text/html": [
       "<div>\n",
       "<style scoped>\n",
       "    .dataframe tbody tr th:only-of-type {\n",
       "        vertical-align: middle;\n",
       "    }\n",
       "\n",
       "    .dataframe tbody tr th {\n",
       "        vertical-align: top;\n",
       "    }\n",
       "\n",
       "    .dataframe thead th {\n",
       "        text-align: right;\n",
       "    }\n",
       "</style>\n",
       "<table border=\"1\" class=\"dataframe\">\n",
       "  <thead>\n",
       "    <tr style=\"text-align: right;\">\n",
       "      <th>group</th>\n",
       "      <th>A</th>\n",
       "      <th>B</th>\n",
       "    </tr>\n",
       "    <tr>\n",
       "      <th>price</th>\n",
       "      <th></th>\n",
       "      <th></th>\n",
       "    </tr>\n",
       "  </thead>\n",
       "  <tbody>\n",
       "    <tr>\n",
       "      <th>10000</th>\n",
       "      <td>5182</td>\n",
       "      <td>5201</td>\n",
       "    </tr>\n",
       "    <tr>\n",
       "      <th>60000</th>\n",
       "      <td>5271</td>\n",
       "      <td>1730</td>\n",
       "    </tr>\n",
       "    <tr>\n",
       "      <th>100000</th>\n",
       "      <td>1832</td>\n",
       "      <td>5227</td>\n",
       "    </tr>\n",
       "    <tr>\n",
       "      <th>150000</th>\n",
       "      <td>3478</td>\n",
       "      <td>3438</td>\n",
       "    </tr>\n",
       "    <tr>\n",
       "      <th>200000</th>\n",
       "      <td>1724</td>\n",
       "      <td>1694</td>\n",
       "    </tr>\n",
       "  </tbody>\n",
       "</table>\n",
       "</div>"
      ],
      "text/plain": [
       "group      A     B\n",
       "price             \n",
       "10000   5182  5201\n",
       "60000   5271  1730\n",
       "100000  1832  5227\n",
       "150000  3478  3438\n",
       "200000  1724  1694"
      ]
     },
     "metadata": {},
     "output_type": "display_data"
    }
   ],
   "source": [
    "data_pivot_purchase = updated_data[updated_data['price'] > 0].pivot_table(values='purchase', index='price', columns='group', aggfunc='count')\n",
    "display(data_pivot_purchase)"
   ]
  },
  {
   "cell_type": "markdown",
   "id": "977423ed-8f8d-475c-b773-621edd95338d",
   "metadata": {},
   "source": [
    "Визуализируйте полученную сводную таблицу с помощью тепловой карты с аннотацией. \n",
    "Чему равно количество проданных туров за 60000 рублей в группах?"
   ]
  },
  {
   "cell_type": "code",
   "execution_count": 11,
   "id": "f634fa8d-585c-42e3-b7d5-78e8d9eaa8c5",
   "metadata": {},
   "outputs": [
    {
     "data": {
      "text/plain": [
       "Text(0.5, 1.0, 'Зависимость количества продаж от цены и тестовой группы')"
      ]
     },
     "execution_count": 11,
     "metadata": {},
     "output_type": "execute_result"
    },
    {
     "data": {
      "image/png": "[encoded data removed]",
      "text/plain": [
       "<Figure size 504x432 with 2 Axes>"
      ]
     },
     "metadata": {
      "needs_background": "light"
     },
     "output_type": "display_data"
    }
   ],
   "source": [
    "fig = plt.figure(figsize=(7, 6))\n",
    "heatmap = sns.heatmap(data=data_pivot_purchase, annot = True, fmt = '', cmap=sns.diverging_palette(235, 15))\n",
    "heatmap.set_title('Зависимость количества продаж от цены и тестовой группы')"
   ]
  },
  {
   "cell_type": "markdown",
   "id": "9caa92ca-e261-4b8f-a16c-2abc322c9ffb",
   "metadata": {},
   "source": [
    "Сделайте выводы по построенной таблице. По каким турам покупательская способность участников группы А выше, чем участников группы B и наоборот?"
   ]
  },
  {
   "cell_type": "markdown",
   "id": "6d13fd45-e3df-468f-9d32-1fc45d38b10c",
   "metadata": {},
   "source": [
    "*Представители **группы 'A'** значительно чаще соверащют покупки в категории **60 000**, по сравнению с представителями **группы 'B'**. В группе **100 000** наблюдается обратная картина - представители **группы 'B'** чаще соверащют покупки по сравнению с представителями **группы 'A'**.*\n",
    "\n",
    "*По остальным группам наблюдаются схожие показатели.*"
   ]
  },
  {
   "cell_type": "markdown",
   "id": "8f021fb4-d0f6-4e43-b518-1a96c07a4531",
   "metadata": {
    "tags": []
   },
   "source": [
    "## **Задание 7.8.**\n",
    "\n",
    "Настало время поговорить о стабилизации кумулятивных метрик во времени. Но прежде, чем перейти к кумулятивным метрикам, нам необходимо построить таблицу с ежедневными данными результатов проведения A/B-тестирования.\n",
    "\n",
    "Сгруппируйте данные по дате и группе тестирования. В каждой группе вычислите количество посещений страницы, количество покупок и сумму покупок. \n",
    "\n",
    "Добавьте в таблицу информацию о ежедневной конверсии (ежедневное количество покупок / ежедневное количество посещений) в группе и ежедневном среднем чеке (ежедневная сумма покупок / ежедневное количество покупок)\n",
    "* Чему равна конверсия 3 января 2021 года? Ответ приведите в процентах и округлите до сотых.\n",
    "\n",
    "* Чему равен средний чек 3 января 2021 года? Ответ приведите в рублях и округлите до целого."
   ]
  },
  {
   "cell_type": "code",
   "execution_count": 12,
   "id": "4503b528-412e-433a-bc03-da7da52fa1a3",
   "metadata": {},
   "outputs": [
    {
     "name": "stdout",
     "output_type": "stream",
     "text": [
      "Конвересия в группе A от 3 января 2021 года равна 11.34 %\n",
      "Конвересия в группе B от 3 января 2021 года равна 11.39 %\n",
      "Средний чек в группе A 3 января 2021 года равен 82888 руб.\n",
      "Средний чек в группе B 3 января 2021 года равен 87480 руб.\n"
     ]
    }
   ],
   "source": [
    "# группируем данные и переименовываем столбцы\n",
    "grouped_date_data = updated_data.groupby(['date', 'group']).agg({\n",
    "    'user_id':'count',\n",
    "    'purchase': 'sum',\n",
    "    'price':'sum'\n",
    "}).reset_index().rename(columns={'user_id': 'count_visits', 'purchase': 'count_purchases', 'price': 'sum_price'})\n",
    "# добавляем данные по ежедневной конверсии и среднем чеке\n",
    "grouped_date_data['conversion'] = grouped_date_data['count_purchases'] / grouped_date_data['count_visits'] * 100\n",
    "grouped_date_data['mean_check'] = grouped_date_data['sum_price'] / grouped_date_data['count_purchases']\n",
    "\n",
    "# вычисляем конверсию в группах на 3 января 2021 года\n",
    "conversion_a = grouped_date_data[(grouped_date_data['date'] == '2021-01-03') & (grouped_date_data['group'] == 'A')]['conversion']\n",
    "print('Конвересия в группе A от 3 января 2021 года равна', round(conversion_a[2], 2), '%')\n",
    "conversion_b = grouped_date_data[(grouped_date_data['date'] == '2021-01-03') & (grouped_date_data['group'] == 'B')]['conversion']\n",
    "print('Конвересия в группе B от 3 января 2021 года равна', round(conversion_b[3], 2), '%')\n",
    "\n",
    "# вычисляем средний чек в группах на 3 января 2021 года\n",
    "mean_check_a = grouped_date_data[(grouped_date_data['date'] == '2021-01-03') & (grouped_date_data['group'] == 'A')]['mean_check']\n",
    "print('Средний чек в группе A 3 января 2021 года равен', round(mean_check_a[2]), 'руб.')\n",
    "mean_check_b = grouped_date_data[(grouped_date_data['date'] == '2021-01-03') & (grouped_date_data['group'] == 'B')]['mean_check']\n",
    "print('Средний чек в группе B 3 января 2021 года равен', round(mean_check_b[3]), 'руб.')"
   ]
  },
  {
   "cell_type": "markdown",
   "id": "bc8e241b-1ef1-4f67-ab90-77251889b7f2",
   "metadata": {},
   "source": [
    "## **Задание 7.9.** \n",
    "\n",
    "Добавьте в таблицу с ежедневными показателями кумулятивные признаки:\n",
    "* кумулятивное количество посещений страницы\n",
    "* кумулятивное количество покупок\n",
    "* кумулятивную сумму покупок\n",
    "\n",
    "Не забудьте при расчете кумулятивной суммы сгруппировать данные по группам. \n",
    "\n",
    "Вычислите кумулятивную конверсию и кумулятивный средний чек на основе полученных кумулятивных показателей. \n",
    "\n",
    "* Какая **кумулятивная** конверсия была в группе B на 20 января? Ответ приведите в процентах, округлив до сотых.\n",
    "* Какой **кумулятивный** средний чек был в группе А на 12 января 2021 года? Ответ приведите в рублях, округлив до целых."
   ]
  },
  {
   "cell_type": "code",
   "execution_count": 13,
   "id": "afe59f9a-8d39-45c1-a14f-9f62091d81a1",
   "metadata": {},
   "outputs": [
    {
     "name": "stdout",
     "output_type": "stream",
     "text": [
      "Кумулятивная конвересия в группе B от 20 января 2021 года равна 11.9 %\n",
      "Кумулятивный средний чек в группе A 12 января 2021 года равен 81492 руб.\n"
     ]
    }
   ],
   "source": [
    "# вычисляем кумулятивное количество посещений\n",
    "grouped_date_data['cum_count_visits'] = grouped_date_data.groupby(['group'])['count_visits'].cumsum()\n",
    "# вычисляем кумулятивное количество покупок\n",
    "grouped_date_data['cum_count_purchases'] = grouped_date_data.groupby(['group'])['count_purchases'].cumsum()\n",
    "# вычисляем кумулятивную сумму покупок\n",
    "grouped_date_data['cum_sum_price'] = grouped_date_data.groupby(['group'])['sum_price'].cumsum()\n",
    "\n",
    "grouped_date_data['cum_conversion'] = grouped_date_data['cum_count_purchases'] / grouped_date_data['cum_count_visits'] * 100\n",
    "grouped_date_data['cum_mean_check'] = grouped_date_data['cum_sum_price'] / grouped_date_data['cum_count_purchases']\n",
    "\n",
    "# вычисляем кумулятивную конверсию в группе B на 20 января 2021 года\n",
    "cum_conversion_b = grouped_date_data[(grouped_date_data['date'] == '2021-01-20') & (grouped_date_data['group'] == 'B')]['cum_conversion']\n",
    "print('Кумулятивная конвересия в группе B от 20 января 2021 года равна', round(tuple(cum_conversion_b)[0], 2), '%')\n",
    "# вычисляем кумулятивный средний чек в группе A на 12 января 2021 года\n",
    "cum_mean_check_a = grouped_date_data[(grouped_date_data['date'] == '2021-01-12') & (grouped_date_data['group'] == 'A')]['cum_mean_check']\n",
    "print('Кумулятивный средний чек в группе A 12 января 2021 года равен', round(tuple(cum_mean_check_a)[0]), 'руб.')"
   ]
  },
  {
   "cell_type": "markdown",
   "id": "c252b8ba-371b-4795-8fc3-a62317e9ba39",
   "metadata": {},
   "source": [
    "Постройте кумулятивные графики конверсии и среднего чека в каждой группе по дням. Сделайте выводы. Можно ли назвать A/B-тест завершенным - стабилизировались ли значения метрик во времени? Как соотносятся кумулятивные показатели в каждой группе?"
   ]
  },
  {
   "cell_type": "code",
   "execution_count": 14,
   "id": "27e23d20-7ed6-4a26-973d-6d0320b81adb",
   "metadata": {},
   "outputs": [
    {
     "data": {
      "image/png": "[encoded data removed]",
      "text/plain": [
       "<Figure size 1080x288 with 1 Axes>"
      ]
     },
     "metadata": {
      "needs_background": "light"
     },
     "output_type": "display_data"
    }
   ],
   "source": [
    "fig = plt.figure(figsize=(15, 4))\n",
    "# строим lineplot для кумулятивной конверсии во времени в каждой группе\n",
    "_ = sns.lineplot(x='date', y='cum_conversion', data=grouped_date_data, hue='group')\n",
    "\n",
    "# задаём подпись к графику\n",
    "_.set_title('График кумулятивной конверсии по дням')\n",
    "# задаём отображение сетки\n",
    "_.grid(True)"
   ]
  },
  {
   "cell_type": "code",
   "execution_count": 15,
   "id": "14f700c2",
   "metadata": {},
   "outputs": [
    {
     "data": {
      "image/png": "[encoded data removed]",
      "text/plain": [
       "<Figure size 1080x288 with 1 Axes>"
      ]
     },
     "metadata": {
      "needs_background": "light"
     },
     "output_type": "display_data"
    }
   ],
   "source": [
    "fig = plt.figure(figsize=(15, 4))\n",
    "# строим lineplot для кумулятивной конверсии во времени в каждой группе\n",
    "_ = sns.lineplot(x='date', y='cum_mean_check', data=grouped_date_data, hue='group')\n",
    "\n",
    "# задаём подпись к графику\n",
    "_.set_title('График кумулятивного среднего чека')\n",
    "# задаём отображение сетки\n",
    "_.grid(True)"
   ]
  },
  {
   "cell_type": "markdown",
   "id": "f645f8e5-ad16-4b3b-8228-fbdeeb286833",
   "metadata": {},
   "source": [
    "*Начиная с 14 января, показатель кумулятивной конверсии стабилизируется, мы наблюдаем, что **в группе 'A' конверсия выше, чем в группе 'B'** в среднем **на 0.2 %**.*\n",
    "\n",
    "*Разрыв в показателях среднего чек увеличивается с первого дня, относительно стабильно значения ведут себя начиная с 21 января. Показатель **в группе 'B' выше, чем в группе 'A'** в среднем **на 7-8 тысяч рублей**.*\n",
    "\n",
    "*Складывается ощущение, что для получения более твёрдых выводов нужно продлить тестирование еще на несколько недель.*"
   ]
  },
  {
   "cell_type": "markdown",
   "id": "2ecaa382-56e2-47f4-b086-24b4742570a3",
   "metadata": {
    "tags": []
   },
   "source": [
    "## **Задание 7.10.**\n",
    "\n",
    "Настало время переходить к проверке статистической значимости разницы между метриками в группах. Начнем с конверсии.\n",
    "\n",
    "Какой тест вы примените для проверки гипотезы о равенстве конверсий в группах?\n",
    "\n",
    "Проведите тестирование при следующих нулевой и альтернативной гипотезе:\n",
    "* $H_0$: Конверсии в группах А и B равны; \n",
    "* $H_1$: Конверсия в группе А больше чем конверсия в группе B;\n",
    "\n",
    "Вычислите p-value вашего теста для конверсий в группах А и B. Сравните полученное значение p-value с уровнем значимости $\\alpha$=0.05. "
   ]
  },
  {
   "cell_type": "code",
   "execution_count": 16,
   "id": "9dd1f6fd-2fa0-4a2f-8181-dbed4c302bce",
   "metadata": {},
   "outputs": [
    {
     "name": "stdout",
     "output_type": "stream",
     "text": [
      "p-value:  0.12\n",
      "Принимаем нулевую гипотезу: Конверсии в группах А и B равны\n"
     ]
    }
   ],
   "source": [
    "# для проверки гипотезы равенства пропорций лучше использоввать z-тестом. \n",
    "# этот тест является наиболее популярным для задачи определения статистической значимости изменения конверсии.\n",
    "\n",
    "H0 = 'Конверсии в группах А и B равны'\n",
    "H1 = 'Конверсия в группе А больше, чем конверсия в группе B'\n",
    "alpha = 0.05 # уровень значимости\n",
    "\n",
    "# рассчитаем количество «успехов» - сумма по столбцу count_purchases таблицы grouped_data\n",
    "# общее количество наблюдений - количество непустых значений в столбце purchase таблицы grouped_data\n",
    "# вычисляем значение p-value для z-теста для пропорций\n",
    "_, p_value = proportions_ztest(count=grouped_data['count_purchases'],\n",
    "                               nobs=grouped_data['count_visits'],\n",
    "                               alternative='larger'\n",
    "                               )\n",
    "print('p-value: ', round(p_value, 2))\n",
    "\n",
    "# сравниваем полученное p-value с уровнем значимости\n",
    "if (p_value < alpha): \n",
    "    print(f'Отвергаем нулевую гипотезу, принимаем альтернативную гипотезу H1: {H1}')\n",
    "else:\n",
    "    print(f'Принимаем нулевую гипотезу: {H0}')"
   ]
  },
  {
   "cell_type": "markdown",
   "id": "da794b48-80e3-47af-aceb-084a1862c86b",
   "metadata": {},
   "source": [
    "Приведите свои выводы по результатам проведенного статистического теста. Есть ли статистическая разница между конверсиями в группах А и B?"
   ]
  },
  {
   "cell_type": "markdown",
   "id": "75dddb06-389d-4d65-92c7-425efa28e51a",
   "metadata": {},
   "source": [
    "*По результатам статистического теста (z-тест), полученное значение p-value больше уровня значимости, а это значит, что мы принимаем нулевую гипотезу, **конверсии в группах A и B можно считать равными**.*"
   ]
  },
  {
   "cell_type": "markdown",
   "id": "32c5a1af-8cb2-4f3c-a126-410b70fb3ff3",
   "metadata": {
    "tags": []
   },
   "source": [
    "## **Задание 7.11.**\n",
    "Убедитесь в своих рассуждениях, построив 95%-ый доверительный интервал для конверсий и разницы между ними. Используйте $z_{крит}$ в своих расчетах\n",
    "\n",
    "Укажите нижнюю и верхнюю границы доверительных интервалов. Границы приведите в процентах и округлите до 2 знака после запятой. Например: нижняя граница 89.24%, верхняя граница 91.25%."
   ]
  },
  {
   "cell_type": "code",
   "execution_count": 17,
   "id": "e9decb7d-ff5e-40a6-8b71-63627c4ef64a",
   "metadata": {},
   "outputs": [
    {
     "name": "stdout",
     "output_type": "stream",
     "text": [
      "Доверительный интервал для конверсии группы А: (11.87, 12.2)\n",
      "Доверительный интервал для конверсии группы B: (11.73, 12.06)\n"
     ]
    }
   ],
   "source": [
    "# зададим функцию для вычисления доверительного интервала\n",
    "def proportions_conf_interval(n, x_p, gamma=0.95):   \n",
    "    alpha = 1 - gamma # уровень значимости\n",
    "    z_crit = -norm.ppf(alpha/2) # z критическое\n",
    "    eps = z_crit * (x_p * (1 - x_p) / n) ** 0.5 #погрешность\n",
    "    lower_bound = x_p - eps # левая (нижняя) граница\n",
    "    upper_bound = x_p + eps # правая (верхняя) граница\n",
    "    # возвращаем кортеж из округлённых границ интервала\n",
    "    return round(lower_bound * 100, 2), round(upper_bound * 100, 2)\n",
    "\n",
    "# применим функцию к данным конверсии\n",
    "conf_interval_a = proportions_conf_interval(\n",
    "n=updated_data[updated_data['group'] == 'A']['purchase'].count(), # размер выборки\n",
    "x_p=updated_data[updated_data['group'] == 'A']['purchase'].mean() # выборочная пропорция\n",
    ")\n",
    "conf_interval_b = proportions_conf_interval(\n",
    "n=updated_data[updated_data['group'] == 'A']['purchase'].count(), # размер выборки\n",
    "x_p=updated_data[updated_data['group'] == 'B']['purchase'].mean() # выборочная пропорция\n",
    ")\n",
    "print(f'Доверительный интервал для конверсии группы А: {conf_interval_a}')\n",
    "print(f'Доверительный интервал для конверсии группы B: {conf_interval_b}')"
   ]
  },
  {
   "cell_type": "code",
   "execution_count": 18,
   "id": "3d7ae49b-3662-4f8d-b7a2-c22a70b47bb8",
   "metadata": {},
   "outputs": [
    {
     "name": "stdout",
     "output_type": "stream",
     "text": [
      "Доверительный интервал для разности конверсий: (-0.38, 0.09)\n"
     ]
    }
   ],
   "source": [
    "# зададим функцию для вычисления доверительного интервала для разницы конверсий\n",
    "def diff_proportions_conf_interval(n, xp, gamma=0.95):\n",
    "    alpha = 1 - gamma # уровень значимости\n",
    "    diff = xp[1] - xp[0] # выборочная разница конверсий групп B и A\n",
    "    z_crit = -norm.ppf(alpha/2) # z критическое\n",
    "    eps = z_crit * (xp[0] * (1 - xp[0])/n[0] + xp[1] * (1 - xp[1])/n[1]) ** 0.5 # погрешность\n",
    "    lower_bound = diff - eps # левая (нижняя) граница\n",
    "    upper_bound = diff + eps # правая (верхняя) граница\n",
    "    # возвращаем кортеж из округлённых границ интервала\n",
    "    return round(lower_bound *100, 2), round(upper_bound * 100, 2)\n",
    "\n",
    "# размеры выборок групп А и B\n",
    "n = [updated_data[updated_data['group'] == 'A']['purchase'].count(), updated_data[updated_data['group'] == 'B']['purchase'].count()]\n",
    "# выборочная пропорция групп A и B\n",
    "xp = [updated_data[updated_data['group'] == 'A']['purchase'].mean(), updated_data[updated_data['group'] == 'B']['purchase'].mean()]\n",
    "\n",
    "# применим функцию к данным конверсии\n",
    "diff_inverval = diff_proportions_conf_interval(n, xp)\n",
    "print(f'Доверительный интервал для разности конверсий: {diff_inverval}')"
   ]
  },
  {
   "cell_type": "markdown",
   "id": "09346e6c",
   "metadata": {},
   "source": [
    "Проинтерпретируйте построенные доверительные интервалы для конверсий в группах. Есть ли перекрытие между доверительными интервалами для групп? Есть ли статистическая разница между конверсиями в группах А и B?"
   ]
  },
  {
   "cell_type": "markdown",
   "id": "678adfc9",
   "metadata": {},
   "source": [
    "Построенный доверительный интервал с 95 %-ой надёжностью говорит нам, что разница в конверсии между вариантом B и вариантом А лежит в интервале от -0.38 % до 0.09 %. То есть разница в конверсии с 95 %-ой надёжностью может быть как положительной, так и отрицательной. \n",
    "\n",
    "*Отсюда можно сделать вывод, что статистической **разницы в конверсии между вариантами А и B не существует**, то есть они являются равнозначными по данной метрике.*"
   ]
  },
  {
   "cell_type": "markdown",
   "id": "73c54883-b919-4889-bbf2-e1bdeb0b7055",
   "metadata": {},
   "source": [
    "## **Задание 7.12.**\n",
    "\n",
    "Ранее мы построили таблицу с ежедневными показателями. Теперь она нам снова понадобится, так как нас интересует ежедневный средний чек.\n",
    "\n",
    "Проверьте гипотезу о нормальности распределения ежедневного среднего чека в каждой из групп тестирования. \n",
    "\n",
    "* Какой тест вы примените  для проверки гипотезы о нормальности распределения ежедневного среднего чека?\n",
    "* Как будут звучать нулевая и альтернативная гипотезы?\n",
    "* Каковы результаты статистического теста с уровнем значимости $\\alpha$ =0.05?"
   ]
  },
  {
   "cell_type": "code",
   "execution_count": 19,
   "id": "898041ae-de7e-4b74-975e-111d494fbb82",
   "metadata": {},
   "outputs": [
    {
     "name": "stdout",
     "output_type": "stream",
     "text": [
      "p-value группы А 0.25\n",
      "p-value группы B 0.09\n",
      "Принимаем нулевую гипотезу: Распределения в обеих группах нормальные.\n"
     ]
    }
   ],
   "source": [
    "# для проверки нормальности распределения ежедневного среднего чека воспользуемся тестом Шапиро-Уилка\n",
    "H0 = 'Распределения в обеих группах нормальные.'\n",
    "H1 = 'Распределение в одной или обеих группах отлично от нормального.'\n",
    "alpha = 0.05 # уровень значимости\n",
    "\n",
    "# вычисляем результат теста Шапиро-Уилка для выборок\n",
    "shapiro_result_a = shapiro(grouped_date_data[grouped_date_data['group'] == 'A']['mean_check'])\n",
    "shapiro_result_b = shapiro(grouped_date_data[grouped_date_data['group'] == 'B']['mean_check'])\n",
    "print('p-value группы А', round(shapiro_result_a.pvalue, 2))\n",
    "print('p-value группы B', round(shapiro_result_b.pvalue, 2))\n",
    "\n",
    "# сравниваем полученное p-value с уровнем значимости\n",
    "if shapiro_result_a.pvalue < alpha or shapiro_result_b.pvalue < alpha:\n",
    "    print(f'Отвергаем нулевую гипотезу, принимаем альтернативную гипотезу H1: {H1}')\n",
    "else:\n",
    "    print(f'Принимаем нулевую гипотезу: {H0}')"
   ]
  },
  {
   "cell_type": "markdown",
   "id": "cbddecf9-4d15-4ff1-84e9-46c4d98fc1e0",
   "metadata": {
    "tags": []
   },
   "source": [
    "## **Задание 7.13.**\n",
    "Настало время сравнить варианты дизайна страницы по метрике среднего чека. \n",
    "\n",
    "Какой тест вы примените для проверки гипотезы о равенстве средних чеков по дням в группах?\n",
    "\n",
    "Проведите тестирование при следующих нулевой и альтернативной гипотезе:\n",
    "* $H_0$: Ежедневные средние чеки в группах А и B равны; \n",
    "* $H_1$: Ежедневный средний чек в группе А меньше чем в группе B;\n",
    "\n",
    "Вычислите p-value вашего теста для ежедневного среднего чека в группах А и B. Сравните полученное значение p-value с уровнем значимости $\\alpha$ =0.05. "
   ]
  },
  {
   "cell_type": "code",
   "execution_count": 20,
   "id": "05d43f23-2c2d-4795-bb96-1ffbfe81c391",
   "metadata": {},
   "outputs": [
    {
     "name": "stdout",
     "output_type": "stream",
     "text": [
      "p-value: 0.0\n",
      "Отвергаем нулевую гипотезу, принимаем альтернативную гипотезу H1: Ежедневный средний чек в групее А меньше, чем ежедневный средний чек  в группе B\n"
     ]
    }
   ],
   "source": [
    "# так как данные распределены нормально, у нас две группы, а количество наблюдений меньше 30\n",
    "# то для проверки статистической значимости нужно использовать T-тест\n",
    "H0 = 'Ежедневный средний чек в группах А и B равный'\n",
    "H1 = 'Ежедневный средний чек в групее А меньше, чем ежедневный средний чек  в группе B'\n",
    "alpha = 0.05 # уровень значимости\n",
    "\n",
    "# вычисляем результат T-теста для выборок\n",
    "results = ttest_ind(\n",
    "    a=grouped_date_data[grouped_date_data['group'] == 'A']['mean_check'],\n",
    "    b=grouped_date_data[grouped_date_data['group'] == 'B']['mean_check'], \n",
    "    alternative='less'\n",
    ")\n",
    "print('p-value:', round(results.pvalue, 2))\n",
    "\n",
    "# сравниваем полученное p-value с уровнем значимости\n",
    "if results.pvalue < alpha: \n",
    "    print(f'Отвергаем нулевую гипотезу, принимаем альтернативную гипотезу H1: {H1}')\n",
    "else:\n",
    "    print(f'Принимаем нулевую гипотезу: {H0}')"
   ]
  },
  {
   "cell_type": "markdown",
   "id": "8534ab25-68b8-48f7-b2c1-ef1b72d8a767",
   "metadata": {},
   "source": [
    " Приведите свои выводы по проведенному статистическому тесту. Есть ли статистическая разница между ежедневными средними чеками в группах А и B?"
   ]
  },
  {
   "cell_type": "markdown",
   "id": "ada10597",
   "metadata": {},
   "source": [
    "*Статистический тест подтверждает ранее полученные данные по среднему чек. **В группе 'B' средний чек больше, чем в группе 'A'**.*"
   ]
  },
  {
   "cell_type": "markdown",
   "id": "5e46c9a6-a943-48b4-ad72-935337469613",
   "metadata": {
    "tags": []
   },
   "source": [
    "## **Задание 7.14.**\n",
    "\n",
    "Постройте 95%-ый доверительный интервал для среднего чека в каждой группе. Так как выборка средних чеков небольшая, используйте  $t_{крит}$ в своих расчетах.\n",
    "\n",
    "Укажите нижнюю границу доверительного интервала для истинного среднего чека каждой из групп. Ответ приведите в процентах и округлите до целого."
   ]
  },
  {
   "cell_type": "code",
   "execution_count": 21,
   "id": "480430db-ffae-4aad-8e22-f5c70d4800b8",
   "metadata": {},
   "outputs": [
    {
     "name": "stdout",
     "output_type": "stream",
     "text": [
      "Доверительный интервал для конверсии группы А: (79630, 82308)\n",
      "Доверительный интервал для конверсии группы B: (87626, 89526)\n"
     ]
    }
   ],
   "source": [
    "# зададим функцию для вычисления доверительного интервала\n",
    "def conf_interval_t(n, x_mean, x_std, gamma=0.95):\n",
    "    alpha = 1 - gamma # уровень значимости\n",
    "    t_crit = -t.ppf(alpha/2, n - 1) # t-критическое\n",
    "    eps = t_crit * x_std/(n ** 0.5) # погрешность\n",
    "    lower_bound = x_mean - eps # левая (нижняя) граница\n",
    "    upper_bound = x_mean + eps # правая (верхняя) граница\n",
    "    return round(lower_bound), round(upper_bound)\n",
    "\n",
    "# применим функцию к данным по среднему чеку\n",
    "conf_interval_a = conf_interval_t(n = grouped_date_data[grouped_date_data['group'] == 'A']['mean_check'].count(), # размер выборки\n",
    "                                  x_mean = grouped_date_data[grouped_date_data['group'] == 'A']['mean_check'].mean(), # выборочное среднее\n",
    "                                  x_std = grouped_date_data[grouped_date_data['group'] == 'A']['mean_check'].std() # выборочное стандартное отклонение\n",
    "                                  )\n",
    "\n",
    "conf_interval_b = conf_interval_t(n = grouped_date_data[grouped_date_data['group'] == 'B']['mean_check'].count(), # размер выборки\n",
    "                                  x_mean = grouped_date_data[grouped_date_data['group'] == 'B']['mean_check'].mean(), # выборочное среднее\n",
    "                                  x_std = grouped_date_data[grouped_date_data['group'] == 'B']['mean_check'].std() # выборочное стандартное отклонение\n",
    "                                  )\n",
    "\n",
    "print(f'Доверительный интервал для конверсии группы А: {conf_interval_a}')\n",
    "print(f'Доверительный интервал для конверсии группы B: {conf_interval_b}')"
   ]
  },
  {
   "cell_type": "markdown",
   "id": "74a78db8-48f7-41d2-94cb-faefb30b8f76",
   "metadata": {},
   "source": [
    "Проинтерпретируйте построенные доверительные интервалы для ежедневных средних чеков в группах. Есть ли между ними пересечения?"
   ]
  },
  {
   "cell_type": "markdown",
   "id": "5a8f25d7",
   "metadata": {},
   "source": [
    "*Пересечений между доверительными интервалами знаачений среднего чек группы 'A' и группы 'B' нет. Судя по доверительным интервалам, **средний чек в группе 'B' значительно выше среднего чек в группе 'A'**.*"
   ]
  },
  {
   "cell_type": "markdown",
   "id": "c078852f-892f-42ed-8d78-73edf8eb1f5e",
   "metadata": {
    "tags": []
   },
   "source": [
    "## **Сделайте общий вывод по результатам A/B-теста**\n",
    "\n",
    "Какой варианта дизайна посадочной страницы является более эффективным в комплексе по метрикам конверсии и среднего чека и почему? "
   ]
  },
  {
   "cell_type": "markdown",
   "id": "1061e081",
   "metadata": {},
   "source": [
    "*По результатам A/B-тестирования можно сделать вывод, что **дизайн посадочной страницы группы 'B' предпочтительнее**, так как **средний чек в группе 'B' выше среднего чек в группе 'A'**, при этом значимой разницы между конверсиями в группах нет. Значит бизнес извлечёт бОльшую прибыль используя вариант дизайна, протестированный в группе 'B'.*"
   ]
  }
 ],
 "metadata": {
  "interpreter": {
   "hash": "0995ea266e7162808c738d4fdd99a2b88db24b47583185fcbe3f8df1c29fd42b"
  },
  "kernelspec": {
   "display_name": "Python 3.10.1 64-bit",
   "language": "python",
   "name": "python3"
  },
  "language_info": {
   "codemirror_mode": {
    "name": "ipython",
    "version": 3
   },
   "file_extension": ".py",
   "mimetype": "text/x-python",
   "name": "python",
   "nbconvert_exporter": "python",
   "pygments_lexer": "ipython3",
   "version": "3.10.1"
  }
 },
 "nbformat": 4,
 "nbformat_minor": 5
}
